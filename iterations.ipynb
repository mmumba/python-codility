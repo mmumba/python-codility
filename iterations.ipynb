{
 "cells": [
  {
   "cell_type": "code",
   "execution_count": 7,
   "metadata": {},
   "outputs": [],
   "source": [
    "def fibb(n):\n",
    "    a = 0\n",
    "    b = 1\n",
    "    while a <= n:\n",
    "        print(a)\n",
    "        c = a + b\n",
    "        a = b\n",
    "        b = c"
   ]
  },
  {
   "cell_type": "code",
   "execution_count": 9,
   "metadata": {},
   "outputs": [
    {
     "name": "stdout",
     "output_type": "stream",
     "text": [
      "0\n",
      "1\n",
      "1\n",
      "2\n",
      "3\n"
     ]
    }
   ],
   "source": [
    "fibb(3)"
   ]
  },
  {
   "cell_type": "code",
   "execution_count": 11,
   "metadata": {},
   "outputs": [
    {
     "name": "stdout",
     "output_type": "stream",
     "text": [
      "Lunes\n",
      "Martes\n",
      "Miercoles\n",
      "viernes\n",
      "jueves\n",
      "Sabado\n",
      "Domingo\n"
     ]
    }
   ],
   "source": [
    "days = ['Lunes', 'Martes','Miercoles','viernes', 'jueves', \n",
    "'Sabado', 'Domingo']\n",
    "for day in days:\n",
    "    print(day)"
   ]
  },
  {
   "cell_type": "code",
   "execution_count": 12,
   "metadata": {},
   "outputs": [
    {
     "name": "stdout",
     "output_type": "stream",
     "text": [
      "l stands for  Lunes\n",
      "m stands for  Martes\n",
      "w stands for  Miercoles\n",
      "v stands for  viernes\n",
      "j stands for  jueves\n",
      "s stands for  Sabado\n",
      "d stands for  Domingo\n"
     ]
    }
   ],
   "source": [
    "days = {'l':'Lunes', 'm':'Martes', 'w':'Miercoles','v':'viernes', 'j':'jueves', \n",
    "'s':'Sabado', 'd':'Domingo'}\n",
    "\n",
    "for key in days:\n",
    "    print(key, 'stands for ', days[key])"
   ]
  },
  {
   "cell_type": "code",
   "execution_count": 34,
   "metadata": {},
   "outputs": [],
   "source": []
  },
  {
   "cell_type": "code",
   "execution_count": 67,
   "metadata": {},
   "outputs": [],
   "source": [
    "def removeTrailing0(binaryList):\n",
    "    a = binaryList[-1]\n",
    "    b = binaryList\n",
    "    # check if last element = '0' if so remove\n",
    "    while a == '0':\n",
    "        b = b[:-1]\n",
    "        a = b[-1]\n",
    "        print(f'Removed 0 {b}')\n",
    "       # removeTrailing0(b)\n",
    "    \n",
    "    return b"
   ]
  },
  {
   "cell_type": "code",
   "execution_count": 130,
   "metadata": {},
   "outputs": [],
   "source": [
    "# you can write to stdout for debugging purposes, e.g.\n",
    "# print(\"this is a debug message\")\n",
    "\n",
    "def solution(N):\n",
    "    # write your code in Python 3.6\n",
    "    gaplist = []\n",
    "    gapCtr = 0\n",
    "    check = isinstance(N, int)\n",
    "    if(check):\n",
    "        if(N <= 4):\n",
    "            return 0\n",
    "        else:\n",
    "            b = format(N, \"b\")\n",
    "            lsB = list(b)\n",
    "            lsBNoZeros = removeTrailingZero(lsB) # remove trailing 0s\n",
    "            sizeList = len(lsBNoZeros)\n",
    "            if(sizeList < 3):\n",
    "                return 0   \n",
    "            # loop through from first element ('1') upto next '1' encountered\n",
    "            a = lsBNoZeros[1]\n",
    "            for i in range(1, len(lsBNoZeros)):\n",
    "                a = lsBNoZeros[i]\n",
    "                if(a == '0'):\n",
    "                    gapCtr += 1 \n",
    "                else:\n",
    "                    gaplist.append(gapCtr)\n",
    "                    gapCtr = 0 # reset to count next set of 0's\n",
    "    else:\n",
    "        print(\"please enter an integer\")\n",
    "        return 0 \n",
    "    maxGap = max(gaplist)\n",
    "\n",
    "    return maxGap\n",
    "\n",
    "def removeTrailingZero(binaryList):\n",
    "    a = binaryList[-1]\n",
    "    b = binaryList\n",
    "    # check if last element == '0' if so remove\n",
    "    while a == '0':\n",
    "        b = b[:-1]\n",
    "        a = b[-1]\n",
    "    return b"
   ]
  },
  {
   "cell_type": "code",
   "execution_count": 136,
   "metadata": {},
   "outputs": [
    {
     "name": "stdout",
     "output_type": "stream",
     "text": [
      "100001000\n",
      "Removed 0 ['1', '0', '0', '0', '0', '1', '0', '0']\n",
      "Removed 0 ['1', '0', '0', '0', '0', '1', '0']\n",
      "Removed 0 ['1', '0', '0', '0', '0', '1']\n",
      "max gap is 4\n"
     ]
    }
   ],
   "source": [
    "ans = soln(2**8 + 2**3)\n",
    "print(f'max gap is {ans}')"
   ]
  },
  {
   "cell_type": "code",
   "execution_count": 140,
   "metadata": {},
   "outputs": [],
   "source": [
    "def solution(N):\n",
    "    # write your code in Python 3.6\n",
    "    gaplist = []\n",
    "    gapCtr = 0\n",
    "    check = isinstance(N, int)\n",
    "    if(check):\n",
    "        if(N <= 4):\n",
    "            return 0\n",
    "        else:\n",
    "            b = format(N, \"b\")\n",
    "            lsB = list(b)\n",
    "            lsBNoZeros = removeTrailingZero(lsB) # remove trailing 0s\n",
    "            sizeList = len(lsBNoZeros)\n",
    "            if(sizeList < 3):\n",
    "                return 0   \n",
    "            # loop through from first element ('1') upto next '1' encountered\n",
    "            a = lsBNoZeros[1]\n",
    "            for i in range(1, len(lsBNoZeros)):\n",
    "                a = lsBNoZeros[i]\n",
    "                if(a == '0'):\n",
    "                    gapCtr += 1 \n",
    "                else:\n",
    "                    gaplist.append(gapCtr)\n",
    "                    gapCtr = 0 # reset to count next set of 0's\n",
    "    else:\n",
    "        print(\"please enter an integer\")\n",
    "        return 0 \n",
    "    maxGap = max(gaplist)\n",
    "\n",
    "    return maxGap\n",
    "\n",
    "def removeTrailingZero(binaryList):\n",
    "    a = binaryList[-1]\n",
    "    b = binaryList\n",
    "    # check if last element == '0' if so remove\n",
    "    while a == '0':\n",
    "        b = b[:-1]\n",
    "        a = b[-1]\n",
    "    return b"
   ]
  },
  {
   "cell_type": "code",
   "execution_count": 143,
   "metadata": {},
   "outputs": [
    {
     "name": "stdout",
     "output_type": "stream",
     "text": [
      "3\n"
     ]
    }
   ],
   "source": [
    "a = solution(49)\n",
    "print(a)"
   ]
  },
  {
   "cell_type": "code",
   "execution_count": null,
   "metadata": {},
   "outputs": [],
   "source": []
  }
 ],
 "metadata": {
  "interpreter": {
   "hash": "916dbcbb3f70747c44a77c7bcd40155683ae19c65e1c03b4aa3499c5328201f1"
  },
  "kernelspec": {
   "display_name": "Python 3.8.10 64-bit",
   "name": "python3"
  },
  "language_info": {
   "codemirror_mode": {
    "name": "ipython",
    "version": 3
   },
   "file_extension": ".py",
   "mimetype": "text/x-python",
   "name": "python",
   "nbconvert_exporter": "python",
   "pygments_lexer": "ipython3",
   "version": "3.8.10"
  },
  "orig_nbformat": 4
 },
 "nbformat": 4,
 "nbformat_minor": 2
}
