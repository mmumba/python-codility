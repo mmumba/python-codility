{
 "cells": [
  {
   "cell_type": "code",
   "execution_count": 7,
   "metadata": {},
   "outputs": [],
   "source": [
    "def solution(X, Y, D):\n",
    "    # X start position\n",
    "    # Y end position\n",
    "    # D step size\n",
    "    num_of_jumps = 0\n",
    "    if(D == 0):\n",
    "        print(f'Error. For D = {D} frog never moves')\n",
    "        return -1\n",
    "    delta = Y - X\n",
    "    # check if D > delta return 1\n",
    "    if(delta <= D) :\n",
    "        if(delta == 0):\n",
    "            return 0\n",
    "        else:\n",
    "            return 1\n",
    "    \n",
    "    # check remainder with modulo division\n",
    "    last_stretch = delta%D\n",
    "       \n",
    "    if(last_stretch > 0):\n",
    "        num_of_jumps += 1 \n",
    "       \n",
    "    whole_jumps = delta // D\n",
    "    \n",
    "    num_of_jumps += whole_jumps \n",
    "\n",
    "    return num_of_jumps"
   ]
  },
  {
   "cell_type": "code",
   "execution_count": 14,
   "metadata": {},
   "outputs": [
    {
     "name": "stdout",
     "output_type": "stream",
     "text": [
      "1\n"
     ]
    }
   ],
   "source": [
    "X=1\n",
    "Y=1\n",
    "D=3\n",
    "jumps = solution(X,Y,D)\n",
    "print(jumps)"
   ]
  },
  {
   "cell_type": "code",
   "execution_count": null,
   "metadata": {},
   "outputs": [],
   "source": []
  }
 ],
 "metadata": {
  "interpreter": {
   "hash": "916dbcbb3f70747c44a77c7bcd40155683ae19c65e1c03b4aa3499c5328201f1"
  },
  "kernelspec": {
   "display_name": "Python 3.8.10 64-bit",
   "name": "python3"
  },
  "language_info": {
   "codemirror_mode": {
    "name": "ipython",
    "version": 3
   },
   "file_extension": ".py",
   "mimetype": "text/x-python",
   "name": "python",
   "nbconvert_exporter": "python",
   "pygments_lexer": "ipython3",
   "version": "3.8.10"
  },
  "orig_nbformat": 4
 },
 "nbformat": 4,
 "nbformat_minor": 2
}
