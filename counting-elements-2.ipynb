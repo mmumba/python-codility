{
 "cells": [
  {
   "cell_type": "code",
   "execution_count": 49,
   "metadata": {},
   "outputs": [],
   "source": [
    "def solution(A):\n",
    "    \n",
    "\n",
    "    N = len(A)\n",
    "    \n",
    "    # if sume of first n number not matching terminate\n",
    "\n",
    "    expected_sum = N*(N+1)//2\n",
    "    actual_sum = sum(A)\n",
    "    if not (expected_sum == actual_sum):\n",
    "        print(f'exiting ...sum of first {N} numbes don\\'t match')\n",
    "        return 0 \n",
    "    \n",
    "    lookup = [False]*(max(A)+1)\n",
    "    print(f'lookup is {lookup}')\n",
    "    ctr = max(A)\n",
    "    # use counter\n",
    "    for i in range(len(A)):\n",
    "        index = A[i]\n",
    "        # check that there's no repetition\n",
    "        # flag should not have been set prior\n",
    "        if lookup[index]:\n",
    "            print(f'repeat found at lookup [{index}] = {lookup[index]}')\n",
    "            return 0\n",
    "        # if number/index being modified for first time\n",
    "        # let it update to True\n",
    "        if not lookup[index]:\n",
    "            lookup[index] = True\n",
    "            print(f'counter = {ctr}')\n",
    "            ctr -= 1\n",
    "            if ctr == 0:\n",
    "                return 1\n",
    "        else:\n",
    "            print('not a permutation')\n",
    "            print('counter =  {ctr}')\n",
    "            return 0\n",
    "    \n",
    "    return 0\n"
   ]
  },
  {
   "cell_type": "code",
   "execution_count": 51,
   "metadata": {},
   "outputs": [
    {
     "name": "stdout",
     "output_type": "stream",
     "text": [
      "exiting ...sum of first 4 numbes don't match\n",
      "0\n"
     ]
    }
   ],
   "source": [
    "A = [4, 1, 2, 1]\n",
    "print(solution(A))"
   ]
  },
  {
   "cell_type": "code",
   "execution_count": 20,
   "metadata": {},
   "outputs": [
    {
     "data": {
      "text/plain": [
       "4"
      ]
     },
     "execution_count": 20,
     "metadata": {},
     "output_type": "execute_result"
    }
   ],
   "source": []
  },
  {
   "cell_type": "code",
   "execution_count": null,
   "metadata": {},
   "outputs": [],
   "source": []
  }
 ],
 "metadata": {
  "interpreter": {
   "hash": "916dbcbb3f70747c44a77c7bcd40155683ae19c65e1c03b4aa3499c5328201f1"
  },
  "kernelspec": {
   "display_name": "Python 3.8.10 64-bit",
   "name": "python3"
  },
  "language_info": {
   "codemirror_mode": {
    "name": "ipython",
    "version": 3
   },
   "file_extension": ".py",
   "mimetype": "text/x-python",
   "name": "python",
   "nbconvert_exporter": "python",
   "pygments_lexer": "ipython3",
   "version": "3.8.10"
  },
  "orig_nbformat": 4
 },
 "nbformat": 4,
 "nbformat_minor": 2
}
