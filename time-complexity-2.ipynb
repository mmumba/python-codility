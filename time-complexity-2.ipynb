{
 "cells": [
  {
   "cell_type": "code",
   "execution_count": 33,
   "metadata": {},
   "outputs": [],
   "source": [
    "def solution(A):\n",
    "    # A has integers 1..(N+1)\n",
    "\n",
    "  \n",
    "    # sort array in descending order\n",
    "    N = len(A)\n",
    "    if (not A): \n",
    "        return 1\n",
    "    if (N== 1):\n",
    "        a1 = A[0]\n",
    "        if(a1 == 1):\n",
    "            return 2\n",
    "        else:\n",
    "            return a1-1\n",
    "    A.sort()\n",
    "\n",
    "    # compare pairwise until get greater than 1 difference\n",
    "    N = len(A)\n",
    "    ai = A[0]\n",
    "    aj = A[1]\n",
    "   \n",
    "    delta = 0\n",
    "    missing = 0\n",
    "    for i in range(N):\n",
    "        delta = aj - ai\n",
    "        # print(i)\n",
    "        if(delta == 2):\n",
    "            missing = ai + 1\n",
    "            # print(f'missing number is {missing}')\n",
    "            return missing\n",
    "        else:\n",
    "            index = i + 1\n",
    "            # print(f'index {index}')\n",
    "            if(index >= N):\n",
    "                return -1\n",
    "            else:\n",
    "                ai = A[i]\n",
    "                aj = A[i+1]\n",
    "\n",
    "         \n",
    "    return missing "
   ]
  },
  {
   "cell_type": "code",
   "execution_count": 38,
   "metadata": {},
   "outputs": [
    {
     "name": "stdout",
     "output_type": "stream",
     "text": [
      "0\n",
      "missing number is 2\n",
      "2\n"
     ]
    }
   ],
   "source": [
    "A = [1,3] # [8,4,7,5,1,2,3] #  [4, 5, 1, 6, 2]\n",
    "miss = solution(A)\n",
    "print(miss)"
   ]
  },
  {
   "cell_type": "code",
   "execution_count": 49,
   "metadata": {},
   "outputs": [],
   "source": [
    "def solution(A):\n",
    " def solution(A):\n",
    "    N = len(A)\n",
    "    if (not A): \n",
    "        return 1\n",
    "\n",
    "    actual_sum = sum(A)\n",
    "    expected_sum = (N + 1)*(2 + N)//2\n",
    "    missing = expected_sum - actual_sum\n",
    "    return missing"
   ]
  },
  {
   "cell_type": "code",
   "execution_count": 50,
   "metadata": {},
   "outputs": [
    {
     "name": "stdout",
     "output_type": "stream",
     "text": [
      "1\n"
     ]
    }
   ],
   "source": [
    "A = [] # [4, 5, 1, 6, 2] # [1,3] # [8,4,7,5,1,2,3] #  [4, 5, 1, 6, 2]\n",
    "miss = solution(A)\n",
    "print(miss)"
   ]
  },
  {
   "cell_type": "code",
   "execution_count": null,
   "metadata": {},
   "outputs": [],
   "source": []
  }
 ],
 "metadata": {
  "interpreter": {
   "hash": "916dbcbb3f70747c44a77c7bcd40155683ae19c65e1c03b4aa3499c5328201f1"
  },
  "kernelspec": {
   "display_name": "Python 3.8.10 64-bit",
   "name": "python3"
  },
  "language_info": {
   "codemirror_mode": {
    "name": "ipython",
    "version": 3
   },
   "file_extension": ".py",
   "mimetype": "text/x-python",
   "name": "python",
   "nbconvert_exporter": "python",
   "pygments_lexer": "ipython3",
   "version": "3.8.10"
  },
  "orig_nbformat": 4
 },
 "nbformat": 4,
 "nbformat_minor": 2
}
