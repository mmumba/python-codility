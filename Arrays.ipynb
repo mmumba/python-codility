{
 "cells": [
  {
   "cell_type": "code",
   "execution_count": 90,
   "metadata": {},
   "outputs": [],
   "source": [
    "def solution(A,K):\n",
    "\n",
    "    # K is number of rotations on each element of array A.\n",
    "    # checks: Dimension of A\n",
    "    #         length of A\n",
    "    #     \n",
    "    N = len(A)\n",
    "\n",
    "    index_prime = [(i + K)%N for i in range(N)]\n",
    "    A_prime =[0]*N\n",
    "\n",
    "    print(f'length of index_prime {len(index_prime)}')\n",
    "    print(f'length of A_prime {len(A_prime)}')\n",
    "   \n",
    "    print(f'index prime {index_prime}')\n",
    "    for i in range(len(index_prime)):\n",
    "        # print(f\"value of index_primes {index_prime[i]}\")\n",
    "        # print(f\"index prime index {i} is {index_prime[i]}\")\n",
    "        # print(f'List A[{i}] is {A[i]}')\n",
    "        # A_prime.append(A[index_prime[i]])\n",
    "        A_prime[index_prime[i]] = A[i]\n",
    "    \n",
    "    print(f'A_prime {A_prime}')\n",
    "    # A_prime2 = []\n",
    "    # A_prime2 = [A[index_prime[i]] for i in range(N)]\n",
    "    # print(f'A_prime2 = {A_prime2}')\n"
   ]
  },
  {
   "cell_type": "code",
   "execution_count": 91,
   "metadata": {},
   "outputs": [
    {
     "name": "stdout",
     "output_type": "stream",
     "text": [
      "[3, 8, 9, 7, 6]\n",
      "length of index_prime 5\n",
      "length of A_prime 5\n",
      "index prime [3, 4, 0, 1, 2]\n",
      "A_prime [9, 7, 6, 3, 8]\n"
     ]
    }
   ],
   "source": [
    "K = 3\n",
    "A =[3, 8, 9, 7, 6] #[i for i in range(Num)]\n",
    "print(A)\n",
    "solution(A,K)"
   ]
  },
  {
   "cell_type": "code",
   "execution_count": 113,
   "metadata": {},
   "outputs": [],
   "source": [
    "import random\n",
    "import numpy \n",
    "\n",
    "def solution(A):\n",
    "    \n",
    "    if(len(A) == 1):\n",
    "        return A[0]   \n",
    "    A.sort()\n",
    "\n",
    "    # check that the odd one out doesn't fall at the end of list\n",
    "    aj = A[-1]\n",
    "    ai = A[-2]\n",
    "    if ((aj -ai)> 0):\n",
    "        return aj \n",
    "\n",
    "    index_ai = 0\n",
    "    index_aj = 1\n",
    "    delta = 0\n",
    "    # check = True\n",
    "    GROUPING_NUM=2\n",
    "    # go through list pairwise [ai,ak]\n",
    "    for i in range(len(A)):\n",
    "        ai = A[index_ai]\n",
    "        aj = A[index_aj]\n",
    "        delta = aj - ai\n",
    "        if(delta == 0 ):\n",
    "            # update index_ai, index_aj\n",
    "            index_ai += GROUPING_NUM\n",
    "            index_aj += GROUPING_NUM \n",
    "            # check = True\n",
    "        else:\n",
    "            # check = False\n",
    "            return ai \n",
    "    \n",
    "    return -1"
   ]
  },
  {
   "cell_type": "code",
   "execution_count": 114,
   "metadata": {},
   "outputs": [],
   "source": [
    "A = [6, 2, 6, 1, 7, 4, 5, 1, 3, 2, 5, 8, 1, 4, 2, 9, 5, 2, 1, 3]\n",
    "B = [7, 8, 7, 8, 3, 8, 9, 2, 1, 1, 2, 9, 3]\n",
    "s = solution(B)"
   ]
  },
  {
   "cell_type": "code",
   "execution_count": 115,
   "metadata": {},
   "outputs": [
    {
     "data": {
      "text/plain": [
       "8"
      ]
     },
     "execution_count": 115,
     "metadata": {},
     "output_type": "execute_result"
    }
   ],
   "source": [
    "s"
   ]
  },
  {
   "cell_type": "code",
   "execution_count": 117,
   "metadata": {},
   "outputs": [
    {
     "ename": "IndexError",
     "evalue": "list index out of range",
     "output_type": "error",
     "traceback": [
      "\u001b[0;31m---------------------------------------------------------------------------\u001b[0m",
      "\u001b[0;31mIndexError\u001b[0m                                Traceback (most recent call last)",
      "\u001b[0;32m<ipython-input-117-501eb93a05d3>\u001b[0m in \u001b[0;36m<module>\u001b[0;34m\u001b[0m\n\u001b[1;32m      1\u001b[0m \u001b[0mC\u001b[0m \u001b[0;34m=\u001b[0m \u001b[0;34m[\u001b[0m\u001b[0;36m3\u001b[0m\u001b[0;34m,\u001b[0m \u001b[0;36m6\u001b[0m\u001b[0;34m,\u001b[0m \u001b[0;36m8\u001b[0m\u001b[0;34m,\u001b[0m \u001b[0;36m9\u001b[0m\u001b[0;34m,\u001b[0m \u001b[0;36m9\u001b[0m\u001b[0;34m,\u001b[0m \u001b[0;36m9\u001b[0m\u001b[0;34m,\u001b[0m \u001b[0;36m8\u001b[0m\u001b[0;34m,\u001b[0m \u001b[0;36m3\u001b[0m\u001b[0;34m,\u001b[0m \u001b[0;36m6\u001b[0m\u001b[0;34m]\u001b[0m\u001b[0;34m\u001b[0m\u001b[0;34m\u001b[0m\u001b[0m\n\u001b[0;32m----> 2\u001b[0;31m \u001b[0msolution\u001b[0m\u001b[0;34m(\u001b[0m\u001b[0mC\u001b[0m\u001b[0;34m)\u001b[0m\u001b[0;34m\u001b[0m\u001b[0;34m\u001b[0m\u001b[0m\n\u001b[0m\u001b[1;32m      3\u001b[0m \u001b[0mprint\u001b[0m\u001b[0;34m(\u001b[0m\u001b[0mC\u001b[0m\u001b[0;34m)\u001b[0m\u001b[0;34m\u001b[0m\u001b[0;34m\u001b[0m\u001b[0m\n",
      "\u001b[0;32m<ipython-input-113-6682ab2329ae>\u001b[0m in \u001b[0;36msolution\u001b[0;34m(A)\u001b[0m\n\u001b[1;32m     23\u001b[0m     \u001b[0;32mfor\u001b[0m \u001b[0mi\u001b[0m \u001b[0;32min\u001b[0m \u001b[0mrange\u001b[0m\u001b[0;34m(\u001b[0m\u001b[0mlen\u001b[0m\u001b[0;34m(\u001b[0m\u001b[0mA\u001b[0m\u001b[0;34m)\u001b[0m\u001b[0;34m)\u001b[0m\u001b[0;34m:\u001b[0m\u001b[0;34m\u001b[0m\u001b[0;34m\u001b[0m\u001b[0m\n\u001b[1;32m     24\u001b[0m         \u001b[0mai\u001b[0m \u001b[0;34m=\u001b[0m \u001b[0mA\u001b[0m\u001b[0;34m[\u001b[0m\u001b[0mindex_ai\u001b[0m\u001b[0;34m]\u001b[0m\u001b[0;34m\u001b[0m\u001b[0;34m\u001b[0m\u001b[0m\n\u001b[0;32m---> 25\u001b[0;31m         \u001b[0maj\u001b[0m \u001b[0;34m=\u001b[0m \u001b[0mA\u001b[0m\u001b[0;34m[\u001b[0m\u001b[0mindex_aj\u001b[0m\u001b[0;34m]\u001b[0m\u001b[0;34m\u001b[0m\u001b[0;34m\u001b[0m\u001b[0m\n\u001b[0m\u001b[1;32m     26\u001b[0m         \u001b[0mdelta\u001b[0m \u001b[0;34m=\u001b[0m \u001b[0maj\u001b[0m \u001b[0;34m-\u001b[0m \u001b[0mai\u001b[0m\u001b[0;34m\u001b[0m\u001b[0;34m\u001b[0m\u001b[0m\n\u001b[1;32m     27\u001b[0m         \u001b[0;32mif\u001b[0m\u001b[0;34m(\u001b[0m\u001b[0mdelta\u001b[0m \u001b[0;34m==\u001b[0m \u001b[0;36m0\u001b[0m \u001b[0;34m)\u001b[0m\u001b[0;34m:\u001b[0m\u001b[0;34m\u001b[0m\u001b[0;34m\u001b[0m\u001b[0m\n",
      "\u001b[0;31mIndexError\u001b[0m: list index out of range"
     ]
    }
   ],
   "source": [
    "C = [3, 6, 8, 9, 9, 9, 8, 3, 6]\n",
    "solution(C)\n",
    "print(C)"
   ]
  },
  {
   "cell_type": "code",
   "execution_count": null,
   "metadata": {},
   "outputs": [],
   "source": []
  },
  {
   "cell_type": "code",
   "execution_count": null,
   "metadata": {},
   "outputs": [],
   "source": []
  }
 ],
 "metadata": {
  "interpreter": {
   "hash": "916dbcbb3f70747c44a77c7bcd40155683ae19c65e1c03b4aa3499c5328201f1"
  },
  "kernelspec": {
   "display_name": "Python 3.8.10 64-bit",
   "name": "python3"
  },
  "language_info": {
   "codemirror_mode": {
    "name": "ipython",
    "version": 3
   },
   "file_extension": ".py",
   "mimetype": "text/x-python",
   "name": "python",
   "nbconvert_exporter": "python",
   "pygments_lexer": "ipython3",
   "version": "3.8.10"
  },
  "orig_nbformat": 4
 },
 "nbformat": 4,
 "nbformat_minor": 2
}
