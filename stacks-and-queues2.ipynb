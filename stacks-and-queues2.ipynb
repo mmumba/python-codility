{
 "cells": [
  {
   "cell_type": "code",
   "execution_count": 122,
   "metadata": {},
   "outputs": [
    {
     "data": {
      "text/plain": [
       "1"
      ]
     },
     "execution_count": 122,
     "metadata": {},
     "output_type": "execute_result"
    }
   ],
   "source": []
  },
  {
   "cell_type": "code",
   "execution_count": 347,
   "metadata": {},
   "outputs": [],
   "source": [
    "def solution(A,B):\n",
    "    fish_stack = []\n",
    "    survivor_stack = []\n",
    "    head = 0 # index of fish in main list\n",
    "\n",
    "    for i in range(len(A)):\n",
    "        # get first element and if fish_stack empty it survives\n",
    "        if B[i]==0 and not fish_stack:\n",
    "            survivor_stack.append(i)\n",
    "            \n",
    "        elif B[i]==0 and fish_stack:\n",
    "            # loop through fish_stack\n",
    "            print(f'something on stack {fish_stack}')\n",
    "            for j in range(len(fish_stack)):\n",
    "                if A[i] > A[fish_stack[-1]]:\n",
    "                    print(f'Pop')\n",
    "                    fish_stack.pop()\n",
    "                    if not fish_stack:\n",
    "                        survivor_stack.append(i)\n",
    "                else:\n",
    "                    break\n",
    "        elif B[i] == 1:\n",
    "            fish_stack.append(i)\n",
    "  \n",
    "    return len(survivor_stack) + len(fish_stack)"
   ]
  },
  {
   "cell_type": "code",
   "execution_count": 359,
   "metadata": {},
   "outputs": [
    {
     "name": "stdout",
     "output_type": "stream",
     "text": [
      "something on stack [0]\n"
     ]
    },
    {
     "data": {
      "text/plain": [
       "2"
      ]
     },
     "execution_count": 359,
     "metadata": {},
     "output_type": "execute_result"
    }
   ],
   "source": [
    "A = [3,1,2]\n",
    "B =  [1,0,1]\n",
    "solution(A,B)"
   ]
  },
  {
   "cell_type": "code",
   "execution_count": 330,
   "metadata": {},
   "outputs": [],
   "source": [
    "def solution(A, B):\n",
    "    stack = []\n",
    "    survivors = 0 \n",
    "    for i in range(len(A)):\n",
    "        weight = A[i]\n",
    "        if B[i] == 1:\n",
    "            stack.append(i)\n",
    "        else:\n",
    "            weightdown = stack.pop() if stack else -1\n",
    "            while weightdown != -1 and weightdown < weight:\n",
    "                weightdown = stack.pop() if stack else -1\n",
    "            if weightdown == -1:\n",
    "                survivors += 1\n",
    "            else:\n",
    "                stack.append(weightdown)\n",
    "    return survivors + len(stack)"
   ]
  },
  {
   "cell_type": "code",
   "execution_count": 331,
   "metadata": {},
   "outputs": [
    {
     "data": {
      "text/plain": [
       "3"
      ]
     },
     "execution_count": 331,
     "metadata": {},
     "output_type": "execute_result"
    }
   ],
   "source": [
    "A = [1,2,3,5,6]\n",
    "B = [1,1,0,1,1]\n",
    "solution(A,B)"
   ]
  },
  {
   "cell_type": "code",
   "execution_count": null,
   "metadata": {},
   "outputs": [],
   "source": []
  }
 ],
 "metadata": {
  "interpreter": {
   "hash": "916dbcbb3f70747c44a77c7bcd40155683ae19c65e1c03b4aa3499c5328201f1"
  },
  "kernelspec": {
   "display_name": "Python 3.8.10 64-bit",
   "name": "python3"
  },
  "language_info": {
   "codemirror_mode": {
    "name": "ipython",
    "version": 3
   },
   "file_extension": ".py",
   "mimetype": "text/x-python",
   "name": "python",
   "nbconvert_exporter": "python",
   "pygments_lexer": "ipython3",
   "version": "3.8.10"
  },
  "orig_nbformat": 4
 },
 "nbformat": 4,
 "nbformat_minor": 2
}
