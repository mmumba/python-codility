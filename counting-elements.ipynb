{
 "cells": [
  {
   "cell_type": "code",
   "execution_count": 33,
   "metadata": {},
   "outputs": [],
   "source": [
    "def solution(X, A):\n",
    "\n",
    "\n",
    "    # for fist X elements of A[k] check if all integers exist\n",
    "\n",
    "    N = len(A)\n",
    "    k = X # get maximal count of positions that need to be filled\n",
    "\n",
    "    if N == 1:\n",
    "        if k==A[0]:\n",
    "          return 0\n",
    "        else:\n",
    "            return -1\n",
    "\n",
    "\n",
    "    timer = k\n",
    "    expected_sum = k*(k+1)//2\n",
    "    # print(f'expected sum for X={X} is {expected_sum}')\n",
    "    # sub_A = list(set(A[:k]))\n",
    "    \n",
    "    for i in range(0, (N-k)):\n",
    "        # remove repeats  \n",
    "        sub_A = list(set(A[:k + i]))\n",
    "\n",
    "        # check if number missing from sum of integers\n",
    "        n = len(sub_A)\n",
    "        # print(f'sub_A = {sub_A}')\n",
    "        actual_sum = sum(sub_A[:k])\n",
    "        sums_diff = expected_sum - actual_sum\n",
    "        \n",
    "        # print(f'Timer =  {timer}')\n",
    "        if sums_diff == 0:\n",
    "            return timer-1 \n",
    "        # if sums_diff non-zero move to k+1 and repeat\n",
    "        # update t_min = k+1\n",
    "        timer += 1\n",
    "        \n",
    "    \n",
    "    return -1"
   ]
  },
  {
   "cell_type": "code",
   "execution_count": 37,
   "metadata": {},
   "outputs": [
    {
     "data": {
      "text/plain": [
       "-1"
      ]
     },
     "execution_count": 37,
     "metadata": {},
     "output_type": "execute_result"
    }
   ],
   "source": [
    "A = [1,1,1,2]\n",
    "# A = [1,1, 2, 3, 5, 5, 8, 9, 6, 3, 4, 3]\n",
    "# A = [1,3,1,4,2,3,5,4]\n",
    "X = 2\n",
    "solution(X,A)\n",
    "\n"
   ]
  },
  {
   "cell_type": "code",
   "execution_count": null,
   "metadata": {},
   "outputs": [],
   "source": [
    "solution(X,A):\n",
    "   \n",
    "   # create counter to count down from X\n",
    "   ctr = X\n",
    "\n",
    "   # create lookup table of length X+1 to track\n",
    "   # positions already filled by leaves\n",
    "   position_lookup = [False]*(X+1)\n",
    "\n",
    "   # Step through A and update look up table and ctr.\n",
    "   # stop when end of A reached or ctr == 0\n",
    "\n",
    "   for i in range(len(A)):\n",
    "       "
   ]
  }
 ],
 "metadata": {
  "interpreter": {
   "hash": "916dbcbb3f70747c44a77c7bcd40155683ae19c65e1c03b4aa3499c5328201f1"
  },
  "kernelspec": {
   "display_name": "Python 3.8.10 64-bit",
   "name": "python3"
  },
  "language_info": {
   "codemirror_mode": {
    "name": "ipython",
    "version": 3
   },
   "file_extension": ".py",
   "mimetype": "text/x-python",
   "name": "python",
   "nbconvert_exporter": "python",
   "pygments_lexer": "ipython3",
   "version": "3.8.10"
  },
  "orig_nbformat": 4
 },
 "nbformat": 4,
 "nbformat_minor": 2
}
