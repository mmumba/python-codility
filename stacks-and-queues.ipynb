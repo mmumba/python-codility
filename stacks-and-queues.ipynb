{
 "cells": [
  {
   "cell_type": "code",
   "execution_count": 40,
   "metadata": {},
   "outputs": [],
   "source": [
    "N = 10\n",
    "stack = [0]*N\n",
    "size = 0 \n",
    "def push(x):\n",
    "    global size\n",
    "    stack[size] = x\n",
    "    size += 1\n",
    "\n",
    "def pop():\n",
    "    global size\n",
    "    if size < 2:\n",
    "        print(f'first index reached')\n",
    "        return stack[size]\n",
    "    else:\n",
    "        size -= 1\n",
    "        return stack[size]"
   ]
  },
  {
   "cell_type": "code",
   "execution_count": 58,
   "metadata": {},
   "outputs": [
    {
     "data": {
      "text/plain": [
       "[2, 2, 1, 3, 5, 6, 0, 0, 0, 0]"
      ]
     },
     "execution_count": 58,
     "metadata": {},
     "output_type": "execute_result"
    }
   ],
   "source": [
    "push(6)\n",
    "stack"
   ]
  },
  {
   "cell_type": "code",
   "execution_count": 59,
   "metadata": {},
   "outputs": [
    {
     "data": {
      "text/plain": [
       "6"
      ]
     },
     "execution_count": 59,
     "metadata": {},
     "output_type": "execute_result"
    }
   ],
   "source": [
    "s = pop()\n",
    "s\n"
   ]
  },
  {
   "cell_type": "code",
   "execution_count": 60,
   "metadata": {},
   "outputs": [
    {
     "data": {
      "text/plain": [
       "[2, 2, 1, 3, 5, 6, 0, 0, 0, 0]"
      ]
     },
     "execution_count": 60,
     "metadata": {},
     "output_type": "execute_result"
    }
   ],
   "source": [
    "stack"
   ]
  },
  {
   "cell_type": "code",
   "execution_count": 45,
   "metadata": {},
   "outputs": [
    {
     "data": {
      "text/plain": [
       "1"
      ]
     },
     "execution_count": 45,
     "metadata": {},
     "output_type": "execute_result"
    }
   ],
   "source": [
    "size"
   ]
  },
  {
   "cell_type": "code",
   "execution_count": 63,
   "metadata": {},
   "outputs": [],
   "source": [
    "N =5\n",
    "queue = [0]*N\n",
    "head, tail = 0,0\n",
    "def push(x):\n",
    "    global tail\n",
    "    tail = (tail + 1) % N\n",
    "    queue[tail] = x\n",
    "def pop():\n",
    "    global head\n",
    "    head = (head + 1) % N\n",
    "    return queue[head]\n",
    "def size():\n",
    "    return(tail -head + N) % N\n",
    "def empty():\n",
    "    return head == tail \n"
   ]
  },
  {
   "cell_type": "code",
   "execution_count": 68,
   "metadata": {},
   "outputs": [],
   "source": [
    "push(1)\n",
    "push(2)\n",
    "push(3)\n",
    "push(9)\n"
   ]
  },
  {
   "cell_type": "code",
   "execution_count": 69,
   "metadata": {},
   "outputs": [
    {
     "data": {
      "text/plain": [
       "[2, 3, 9, 3, 1]"
      ]
     },
     "execution_count": 69,
     "metadata": {},
     "output_type": "execute_result"
    }
   ],
   "source": [
    "queue"
   ]
  },
  {
   "cell_type": "code",
   "execution_count": 70,
   "metadata": {},
   "outputs": [
    {
     "data": {
      "text/plain": [
       "[2, 3, 9, 3, 1]"
      ]
     },
     "execution_count": 70,
     "metadata": {},
     "output_type": "execute_result"
    }
   ],
   "source": [
    "pop()\n",
    "queue"
   ]
  },
  {
   "cell_type": "code",
   "execution_count": 71,
   "metadata": {},
   "outputs": [],
   "source": [
    "push(6)"
   ]
  },
  {
   "cell_type": "code",
   "execution_count": 72,
   "metadata": {},
   "outputs": [
    {
     "data": {
      "text/plain": [
       "[2, 3, 9, 6, 1]"
      ]
     },
     "execution_count": 72,
     "metadata": {},
     "output_type": "execute_result"
    }
   ],
   "source": [
    "queue"
   ]
  },
  {
   "cell_type": "code",
   "execution_count": 211,
   "metadata": {},
   "outputs": [],
   "source": [
    "def solution(S):\n",
    "    S = list(S.strip())\n",
    "    print(f'input string S as list = {S}')\n",
    "    if len(S) == 0:\n",
    "        return 1\n",
    "\n",
    "    parity_check = len(S)%2 \n",
    "    print(f'parity check = {parity_check}')\n",
    "    if not len(S)%2 == 0:\n",
    "        return 0\n",
    "\n",
    "    openChar = ['(','{','[']\n",
    "    closedChar = [')','}',']']\n",
    "\n",
    "    tracker = []\n",
    "    # check first element is open if not return 0\n",
    "    s = S[0]\n",
    " \n",
    "    if s in closedChar:\n",
    "        return 0 \n",
    " \n",
    "    # print(f'total num = {num}')\n",
    "    # loop through keeping last open character in head of tracker\n",
    "    # pop() tracker when close is found else push/append\n",
    "    # loop through S \n",
    "    head = S[0]\n",
    "    for i in range(0, len(S)):\n",
    "        s = S[i]\n",
    "        print(f'loop {i} out of {len(S)}')\n",
    "        # only allowed char is open or the closed \n",
    "        # pair of head pointer \n",
    "        print(f'S[{i}] = {s}')\n",
    "        \n",
    "        if s in openChar:\n",
    "            # print(f'openChar[{openChar.index(s)}]')\n",
    "            s_prime = closedChar[openChar.index(s)]\n",
    "            #update head of tracker\n",
    "            tracker.append(s)\n",
    "            head = s\n",
    "            print(f'head = {head}')\n",
    "            print(f'Tracker is {tracker}')\n",
    "        else:\n",
    "            # check that the closed char mirrors head of tracker\n",
    "            if head == openChar[closedChar.index(s)]:\n",
    "                tracker.pop() \n",
    "                # update head\n",
    "                if len(tracker) == 0:\n",
    "                    head = 0\n",
    "                else:\n",
    "                    head = tracker[-1]\n",
    "                print(f'Tracker after pop =  {tracker}')\n",
    "                print(f'after pop S[{i}] = {s}')\n",
    "            else:\n",
    "                return 0\n",
    "                \n",
    "        \n",
    "    # print(f'tracker = {tracker}')  \n",
    "    # print(f'sprime = {s_prime}')\n",
    "    # print(f'S[{len(S)-1}]={S[len(S)-1]}')\n",
    "    \n",
    "    # s_prime = openChar[closedChar.index(S[len(S)-1])]\n",
    "    \n",
    "    print(f'sprime mirrored at end = {s_prime}')\n",
    "    if  len(tracker) == 0:\n",
    "        return 1\n",
    "\n",
    "    else:\n",
    "        return 0  \n",
    "\n",
    "            "
   ]
  },
  {
   "cell_type": "code",
   "execution_count": 214,
   "metadata": {},
   "outputs": [
    {
     "name": "stdout",
     "output_type": "stream",
     "text": [
      "input string S as list = ['{', '[', ']', '}', '}', '}']\n",
      "parity check = 0\n",
      "loop 0 out of 6\n",
      "S[0] = {\n",
      "head = {\n",
      "Tracker is ['{']\n",
      "loop 1 out of 6\n",
      "S[1] = [\n",
      "head = [\n",
      "Tracker is ['{', '[']\n",
      "loop 2 out of 6\n",
      "S[2] = ]\n",
      "Tracker after pop =  ['{']\n",
      "after pop S[2] = ]\n",
      "loop 3 out of 6\n",
      "S[3] = }\n",
      "Tracker after pop =  []\n",
      "after pop S[3] = }\n",
      "loop 4 out of 6\n",
      "S[4] = }\n"
     ]
    },
    {
     "data": {
      "text/plain": [
       "0"
      ]
     },
     "execution_count": 214,
     "metadata": {},
     "output_type": "execute_result"
    }
   ],
   "source": [
    "# S=[\"{\",\"[\",\"(\",\")\",\"(\",\")\",\"]\"]\n",
    "# SS = [\"{\",\"[\",\"(\"]\n",
    "T = '{[()()]}'\n",
    "TT = '{[]}}}'\n",
    "solution(TT)"
   ]
  },
  {
   "cell_type": "code",
   "execution_count": 219,
   "metadata": {},
   "outputs": [],
   "source": [
    "def solution(S):\n",
    "    valid = True\n",
    "    stack = []\n",
    "    for c in S:\n",
    "        if c == \"[\" or c ==\"{\" or c == \"(\":\n",
    "            stack.append(c)\n",
    "        elif c == \")\":\n",
    "            valid = False if not stack or stack.pop() != \"(\" else valid\n",
    "        elif c == \"}\":\n",
    "            valid = False if not stack or stack.pop() != \"{\" else valid\n",
    "        elif c == \"]\":\n",
    "            valid = False if not stack or stack.pop() != \"[\" else valid\n",
    "    return 1 if valid and not stack else 0\n",
    "        # print(f'{c}')"
   ]
  },
  {
   "cell_type": "code",
   "execution_count": 222,
   "metadata": {},
   "outputs": [
    {
     "data": {
      "text/plain": [
       "0"
      ]
     },
     "execution_count": 222,
     "metadata": {},
     "output_type": "execute_result"
    }
   ],
   "source": [
    "c = '(){}]]]]'\n",
    "solution(c)"
   ]
  },
  {
   "cell_type": "code",
   "execution_count": null,
   "metadata": {},
   "outputs": [],
   "source": []
  }
 ],
 "metadata": {
  "interpreter": {
   "hash": "916dbcbb3f70747c44a77c7bcd40155683ae19c65e1c03b4aa3499c5328201f1"
  },
  "kernelspec": {
   "display_name": "Python 3.8.10 64-bit",
   "name": "python3"
  },
  "language_info": {
   "codemirror_mode": {
    "name": "ipython",
    "version": 3
   },
   "file_extension": ".py",
   "mimetype": "text/x-python",
   "name": "python",
   "nbconvert_exporter": "python",
   "pygments_lexer": "ipython3",
   "version": "3.8.10"
  },
  "orig_nbformat": 4
 },
 "nbformat": 4,
 "nbformat_minor": 2
}
